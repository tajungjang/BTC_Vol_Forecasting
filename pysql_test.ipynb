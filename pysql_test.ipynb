{
 "cells": [
  {
   "cell_type": "code",
   "execution_count": 1,
   "metadata": {},
   "outputs": [],
   "source": [
    "import pymysql\n",
    "import pandas as pd\n",
    "import numpy as np\n",
    "import urllib.request, json\n",
    "import nest_asyncio"
   ]
  },
  {
   "cell_type": "code",
   "execution_count": 2,
   "metadata": {},
   "outputs": [],
   "source": [
    "nest_asyncio.apply()"
   ]
  },
  {
   "cell_type": "code",
   "execution_count": 3,
   "metadata": {},
   "outputs": [],
   "source": [
    "#grab the entire table from sql\n",
    "#contains recent traded option log and updated gex/vex/ddoi values\n",
    "#make this take an argument in case we have more tables in the future\n",
    "def get_sql_df():\n",
    "    Host = 'deribit-db-instance.csduabs5w5go.us-east-1.rds.amazonaws.com'\n",
    "    User = 'admin'\n",
    "    Password = 'Deribit123'\n",
    "    Database = 'deribit'\n",
    "    con = pymysql.connect(user=User, password=Password,host=Host, database=Database, port=3306, ssl_key='../../Downloads/deribit-key-pair.pem')\n",
    "    try:\n",
    "        with con.cursor() as cur:\n",
    "            query = 'SELECT * FROM deribit.option_table'\n",
    "            cur.execute(query)\n",
    "            df = pd.read_sql(query, con)\n",
    "            return df\n",
    "    finally:\n",
    "        con.close()"
   ]
  },
  {
   "cell_type": "code",
   "execution_count": 4,
   "metadata": {},
   "outputs": [
    {
     "data": {
      "text/html": [
       "<div>\n",
       "<style scoped>\n",
       "    .dataframe tbody tr th:only-of-type {\n",
       "        vertical-align: middle;\n",
       "    }\n",
       "\n",
       "    .dataframe tbody tr th {\n",
       "        vertical-align: top;\n",
       "    }\n",
       "\n",
       "    .dataframe thead th {\n",
       "        text-align: right;\n",
       "    }\n",
       "</style>\n",
       "<table border=\"1\" class=\"dataframe\">\n",
       "  <thead>\n",
       "    <tr style=\"text-align: right;\">\n",
       "      <th></th>\n",
       "      <th>MyUnknownColumn</th>\n",
       "      <th>trade_seq</th>\n",
       "      <th>trade_id</th>\n",
       "      <th>timestamp</th>\n",
       "      <th>tick_direction</th>\n",
       "      <th>price</th>\n",
       "      <th>mark_price</th>\n",
       "      <th>iv</th>\n",
       "      <th>instrument_name</th>\n",
       "      <th>index_price</th>\n",
       "      <th>direction</th>\n",
       "      <th>amount</th>\n",
       "      <th>gex</th>\n",
       "      <th>vex</th>\n",
       "      <th>ddoi</th>\n",
       "    </tr>\n",
       "  </thead>\n",
       "  <tbody>\n",
       "    <tr>\n",
       "      <th>0</th>\n",
       "      <td>0</td>\n",
       "      <td>3</td>\n",
       "      <td>64622797</td>\n",
       "      <td>1613793025351</td>\n",
       "      <td>0</td>\n",
       "      <td>0.1625</td>\n",
       "      <td>0.245046</td>\n",
       "      <td>107.69</td>\n",
       "      <td>BTC-26MAR21-54000-C</td>\n",
       "      <td>55753.42</td>\n",
       "      <td>buy</td>\n",
       "      <td>10</td>\n",
       "      <td>10</td>\n",
       "      <td>10</td>\n",
       "      <td>0</td>\n",
       "    </tr>\n",
       "    <tr>\n",
       "      <th>1</th>\n",
       "      <td>0</td>\n",
       "      <td>2</td>\n",
       "      <td>64649826</td>\n",
       "      <td>1613851501155</td>\n",
       "      <td>0</td>\n",
       "      <td>0.1340</td>\n",
       "      <td>0.073299</td>\n",
       "      <td>165.31</td>\n",
       "      <td>BTC-5MAR21-57000-P</td>\n",
       "      <td>56738.42</td>\n",
       "      <td>buy</td>\n",
       "      <td>3</td>\n",
       "      <td>20</td>\n",
       "      <td>15</td>\n",
       "      <td>0</td>\n",
       "    </tr>\n",
       "    <tr>\n",
       "      <th>2</th>\n",
       "      <td>0</td>\n",
       "      <td>50</td>\n",
       "      <td>64649954</td>\n",
       "      <td>1613851546122</td>\n",
       "      <td>0</td>\n",
       "      <td>0.1370</td>\n",
       "      <td>0.063862</td>\n",
       "      <td>198.70</td>\n",
       "      <td>BTC-5MAR21-57000-C</td>\n",
       "      <td>56731.02</td>\n",
       "      <td>buy</td>\n",
       "      <td>3</td>\n",
       "      <td>30</td>\n",
       "      <td>16</td>\n",
       "      <td>0</td>\n",
       "    </tr>\n",
       "    <tr>\n",
       "      <th>3</th>\n",
       "      <td>0</td>\n",
       "      <td>57</td>\n",
       "      <td>64650074</td>\n",
       "      <td>1613851603336</td>\n",
       "      <td>0</td>\n",
       "      <td>0.0695</td>\n",
       "      <td>0.061493</td>\n",
       "      <td>134.11</td>\n",
       "      <td>BTC-5MAR21-60000-C</td>\n",
       "      <td>56796.98</td>\n",
       "      <td>buy</td>\n",
       "      <td>3</td>\n",
       "      <td>40</td>\n",
       "      <td>20</td>\n",
       "      <td>0</td>\n",
       "    </tr>\n",
       "    <tr>\n",
       "      <th>4</th>\n",
       "      <td>0</td>\n",
       "      <td>336</td>\n",
       "      <td>64657047</td>\n",
       "      <td>1613855054463</td>\n",
       "      <td>2</td>\n",
       "      <td>0.0560</td>\n",
       "      <td>0.151207</td>\n",
       "      <td>39.36</td>\n",
       "      <td>BTC-26FEB21-54000-C</td>\n",
       "      <td>56715.78</td>\n",
       "      <td>sell</td>\n",
       "      <td>2</td>\n",
       "      <td>30</td>\n",
       "      <td>10</td>\n",
       "      <td>0</td>\n",
       "    </tr>\n",
       "  </tbody>\n",
       "</table>\n",
       "</div>"
      ],
      "text/plain": [
       "   MyUnknownColumn  trade_seq  trade_id      timestamp  tick_direction  \\\n",
       "0                0          3  64622797  1613793025351               0   \n",
       "1                0          2  64649826  1613851501155               0   \n",
       "2                0         50  64649954  1613851546122               0   \n",
       "3                0         57  64650074  1613851603336               0   \n",
       "4                0        336  64657047  1613855054463               2   \n",
       "\n",
       "    price  mark_price      iv      instrument_name  index_price direction  \\\n",
       "0  0.1625    0.245046  107.69  BTC-26MAR21-54000-C     55753.42       buy   \n",
       "1  0.1340    0.073299  165.31   BTC-5MAR21-57000-P     56738.42       buy   \n",
       "2  0.1370    0.063862  198.70   BTC-5MAR21-57000-C     56731.02       buy   \n",
       "3  0.0695    0.061493  134.11   BTC-5MAR21-60000-C     56796.98       buy   \n",
       "4  0.0560    0.151207   39.36  BTC-26FEB21-54000-C     56715.78      sell   \n",
       "\n",
       "   amount  gex  vex  ddoi  \n",
       "0      10   10   10     0  \n",
       "1       3   20   15     0  \n",
       "2       3   30   16     0  \n",
       "3       3   40   20     0  \n",
       "4       2   30   10     0  "
      ]
     },
     "execution_count": 4,
     "metadata": {},
     "output_type": "execute_result"
    }
   ],
   "source": [
    "df = get_sql_df()\n",
    "df.head()"
   ]
  },
  {
   "cell_type": "code",
   "execution_count": 5,
   "metadata": {},
   "outputs": [
    {
     "data": {
      "text/plain": [
       "(6, 15)"
      ]
     },
     "execution_count": 5,
     "metadata": {},
     "output_type": "execute_result"
    }
   ],
   "source": [
    "df.shape"
   ]
  },
  {
   "cell_type": "code",
   "execution_count": 6,
   "metadata": {},
   "outputs": [],
   "source": [
    "testingdf = df.copy()"
   ]
  },
  {
   "cell_type": "code",
   "execution_count": 7,
   "metadata": {},
   "outputs": [],
   "source": [
    "#working function here\n",
    "def get_instrument():\n",
    "    for x in df['instrument_name']:\n",
    "        url = 'https://test.deribit.com/api/v2/public/get_instrument?instrument_name='\n",
    "        url += x\n",
    "        with urllib.request.urlopen(url) as url:\n",
    "            data = json.loads(url.read().decode())\n",
    "        result = data['result']\n",
    "        if(result['is_active']):\n",
    "            pass\n",
    "        else:\n",
    "            iname = result['instrument_name']\n",
    "            testingdf.drop(testingdf[testingdf['instrument_name'] == iname].index, inplace = True)"
   ]
  },
  {
   "cell_type": "code",
   "execution_count": 8,
   "metadata": {},
   "outputs": [],
   "source": [
    "get_instrument()"
   ]
  },
  {
   "cell_type": "code",
   "execution_count": 9,
   "metadata": {},
   "outputs": [
    {
     "data": {
      "text/html": [
       "<div>\n",
       "<style scoped>\n",
       "    .dataframe tbody tr th:only-of-type {\n",
       "        vertical-align: middle;\n",
       "    }\n",
       "\n",
       "    .dataframe tbody tr th {\n",
       "        vertical-align: top;\n",
       "    }\n",
       "\n",
       "    .dataframe thead th {\n",
       "        text-align: right;\n",
       "    }\n",
       "</style>\n",
       "<table border=\"1\" class=\"dataframe\">\n",
       "  <thead>\n",
       "    <tr style=\"text-align: right;\">\n",
       "      <th></th>\n",
       "      <th>MyUnknownColumn</th>\n",
       "      <th>trade_seq</th>\n",
       "      <th>trade_id</th>\n",
       "      <th>timestamp</th>\n",
       "      <th>tick_direction</th>\n",
       "      <th>price</th>\n",
       "      <th>mark_price</th>\n",
       "      <th>iv</th>\n",
       "      <th>instrument_name</th>\n",
       "      <th>index_price</th>\n",
       "      <th>direction</th>\n",
       "      <th>amount</th>\n",
       "      <th>gex</th>\n",
       "      <th>vex</th>\n",
       "      <th>ddoi</th>\n",
       "    </tr>\n",
       "  </thead>\n",
       "  <tbody>\n",
       "    <tr>\n",
       "      <th>0</th>\n",
       "      <td>0</td>\n",
       "      <td>3</td>\n",
       "      <td>64622797</td>\n",
       "      <td>1613793025351</td>\n",
       "      <td>0</td>\n",
       "      <td>0.1625</td>\n",
       "      <td>0.245046</td>\n",
       "      <td>107.69</td>\n",
       "      <td>BTC-26MAR21-54000-C</td>\n",
       "      <td>55753.42</td>\n",
       "      <td>buy</td>\n",
       "      <td>10</td>\n",
       "      <td>10</td>\n",
       "      <td>10</td>\n",
       "      <td>0</td>\n",
       "    </tr>\n",
       "    <tr>\n",
       "      <th>1</th>\n",
       "      <td>0</td>\n",
       "      <td>2</td>\n",
       "      <td>64649826</td>\n",
       "      <td>1613851501155</td>\n",
       "      <td>0</td>\n",
       "      <td>0.1340</td>\n",
       "      <td>0.073299</td>\n",
       "      <td>165.31</td>\n",
       "      <td>BTC-5MAR21-57000-P</td>\n",
       "      <td>56738.42</td>\n",
       "      <td>buy</td>\n",
       "      <td>3</td>\n",
       "      <td>20</td>\n",
       "      <td>15</td>\n",
       "      <td>0</td>\n",
       "    </tr>\n",
       "    <tr>\n",
       "      <th>2</th>\n",
       "      <td>0</td>\n",
       "      <td>50</td>\n",
       "      <td>64649954</td>\n",
       "      <td>1613851546122</td>\n",
       "      <td>0</td>\n",
       "      <td>0.1370</td>\n",
       "      <td>0.063862</td>\n",
       "      <td>198.70</td>\n",
       "      <td>BTC-5MAR21-57000-C</td>\n",
       "      <td>56731.02</td>\n",
       "      <td>buy</td>\n",
       "      <td>3</td>\n",
       "      <td>30</td>\n",
       "      <td>16</td>\n",
       "      <td>0</td>\n",
       "    </tr>\n",
       "    <tr>\n",
       "      <th>3</th>\n",
       "      <td>0</td>\n",
       "      <td>57</td>\n",
       "      <td>64650074</td>\n",
       "      <td>1613851603336</td>\n",
       "      <td>0</td>\n",
       "      <td>0.0695</td>\n",
       "      <td>0.061493</td>\n",
       "      <td>134.11</td>\n",
       "      <td>BTC-5MAR21-60000-C</td>\n",
       "      <td>56796.98</td>\n",
       "      <td>buy</td>\n",
       "      <td>3</td>\n",
       "      <td>40</td>\n",
       "      <td>20</td>\n",
       "      <td>0</td>\n",
       "    </tr>\n",
       "  </tbody>\n",
       "</table>\n",
       "</div>"
      ],
      "text/plain": [
       "   MyUnknownColumn  trade_seq  trade_id      timestamp  tick_direction  \\\n",
       "0                0          3  64622797  1613793025351               0   \n",
       "1                0          2  64649826  1613851501155               0   \n",
       "2                0         50  64649954  1613851546122               0   \n",
       "3                0         57  64650074  1613851603336               0   \n",
       "\n",
       "    price  mark_price      iv      instrument_name  index_price direction  \\\n",
       "0  0.1625    0.245046  107.69  BTC-26MAR21-54000-C     55753.42       buy   \n",
       "1  0.1340    0.073299  165.31   BTC-5MAR21-57000-P     56738.42       buy   \n",
       "2  0.1370    0.063862  198.70   BTC-5MAR21-57000-C     56731.02       buy   \n",
       "3  0.0695    0.061493  134.11   BTC-5MAR21-60000-C     56796.98       buy   \n",
       "\n",
       "   amount  gex  vex  ddoi  \n",
       "0      10   10   10     0  \n",
       "1       3   20   15     0  \n",
       "2       3   30   16     0  \n",
       "3       3   40   20     0  "
      ]
     },
     "execution_count": 9,
     "metadata": {},
     "output_type": "execute_result"
    }
   ],
   "source": [
    "testingdf"
   ]
  },
  {
   "cell_type": "code",
   "execution_count": 10,
   "metadata": {},
   "outputs": [],
   "source": [
    "testrow = testingdf.iloc[-1]"
   ]
  },
  {
   "cell_type": "code",
   "execution_count": 11,
   "metadata": {},
   "outputs": [
    {
     "data": {
      "text/plain": [
       "MyUnknownColumn                     0\n",
       "trade_seq                          57\n",
       "trade_id                     64650074\n",
       "timestamp               1613851603336\n",
       "tick_direction                      0\n",
       "price                          0.0695\n",
       "mark_price                  0.0614931\n",
       "iv                             134.11\n",
       "instrument_name    BTC-5MAR21-60000-C\n",
       "index_price                     56797\n",
       "direction                         buy\n",
       "amount                              3\n",
       "gex                                40\n",
       "vex                                20\n",
       "ddoi                                0\n",
       "Name: 3, dtype: object"
      ]
     },
     "execution_count": 11,
     "metadata": {},
     "output_type": "execute_result"
    }
   ],
   "source": [
    "testrow"
   ]
  },
  {
   "cell_type": "code",
   "execution_count": 12,
   "metadata": {},
   "outputs": [],
   "source": [
    "gex = testingdf.iloc[-1][12]"
   ]
  },
  {
   "cell_type": "code",
   "execution_count": 13,
   "metadata": {},
   "outputs": [
    {
     "data": {
      "text/plain": [
       "40"
      ]
     },
     "execution_count": 13,
     "metadata": {},
     "output_type": "execute_result"
    }
   ],
   "source": [
    "gex"
   ]
  },
  {
   "cell_type": "code",
   "execution_count": 14,
   "metadata": {},
   "outputs": [],
   "source": [
    "vex = testingdf.iloc[-1][13]"
   ]
  },
  {
   "cell_type": "code",
   "execution_count": 15,
   "metadata": {},
   "outputs": [
    {
     "data": {
      "text/plain": [
       "20"
      ]
     },
     "execution_count": 15,
     "metadata": {},
     "output_type": "execute_result"
    }
   ],
   "source": [
    "vex"
   ]
  },
  {
   "cell_type": "code",
   "execution_count": 16,
   "metadata": {},
   "outputs": [
    {
     "name": "stdout",
     "output_type": "stream",
     "text": [
      "   trade_seq  trade_id      timestamp  tick_direction   price    mark_price  \\\n",
      "0         74  65963909  1614651787853               2  0.0005  3.700000e-07   \n",
      "\n",
      "       iv     instrument_name  index_price direction  amount  \n",
      "0  191.33  BTC-2MAR21-45000-P     49348.41       buy     1.0  \n"
     ]
    },
    {
     "name": "stderr",
     "output_type": "stream",
     "text": [
      "<ipython-input-16-9b2700c24ece>:25: FutureWarning: pandas.io.json.json_normalize is deprecated, use pandas.json_normalize instead\n",
      "  data_norm = json_normalize(data['params']['data'])\n"
     ]
    }
   ],
   "source": [
    "import asyncio\n",
    "import websockets\n",
    "import json\n",
    "\n",
    "# To subscribe to this channel:\n",
    "msg = \\\n",
    "    {\"jsonrpc\": \"2.0\",\n",
    "     \"method\": \"public/subscribe\",\n",
    "     \"id\": 42,\n",
    "     \"params\": {\n",
    "        \"channels\": [\"trades.option.BTC.raw\"]}\n",
    "    }\n",
    "\n",
    "async def call_api(msg):\n",
    "   async with websockets.connect('wss://test.deribit.com/ws/api/v2') as websocket:\n",
    "       await websocket.send(msg)\n",
    "       while websocket.open:\n",
    "           response = await websocket.recv()\n",
    "           data = response\n",
    "           data = json.loads(data)\n",
    "           from pandas.io.json import json_normalize\n",
    "           if('result' in data):\n",
    "               pass\n",
    "           else:\n",
    "               data_norm = json_normalize(data['params']['data'])\n",
    "               #data_norm.to_csv(\"./option_trade_log.csv\", mode='a')\n",
    "               print(data_norm)\n",
    "               return data_norm\n",
    "               await websocket.close()\n",
    "           #print(\"\\n\\n\")\n",
    "\n",
    "\n",
    "newdftest = asyncio.get_event_loop().run_until_complete(call_api(json.dumps(msg)))"
   ]
  },
  {
   "cell_type": "code",
   "execution_count": 17,
   "metadata": {},
   "outputs": [
    {
     "data": {
      "text/html": [
       "<div>\n",
       "<style scoped>\n",
       "    .dataframe tbody tr th:only-of-type {\n",
       "        vertical-align: middle;\n",
       "    }\n",
       "\n",
       "    .dataframe tbody tr th {\n",
       "        vertical-align: top;\n",
       "    }\n",
       "\n",
       "    .dataframe thead th {\n",
       "        text-align: right;\n",
       "    }\n",
       "</style>\n",
       "<table border=\"1\" class=\"dataframe\">\n",
       "  <thead>\n",
       "    <tr style=\"text-align: right;\">\n",
       "      <th></th>\n",
       "      <th>trade_seq</th>\n",
       "      <th>trade_id</th>\n",
       "      <th>timestamp</th>\n",
       "      <th>tick_direction</th>\n",
       "      <th>price</th>\n",
       "      <th>mark_price</th>\n",
       "      <th>iv</th>\n",
       "      <th>instrument_name</th>\n",
       "      <th>index_price</th>\n",
       "      <th>direction</th>\n",
       "      <th>amount</th>\n",
       "    </tr>\n",
       "  </thead>\n",
       "  <tbody>\n",
       "    <tr>\n",
       "      <th>0</th>\n",
       "      <td>74</td>\n",
       "      <td>65963909</td>\n",
       "      <td>1614651787853</td>\n",
       "      <td>2</td>\n",
       "      <td>0.0005</td>\n",
       "      <td>3.700000e-07</td>\n",
       "      <td>191.33</td>\n",
       "      <td>BTC-2MAR21-45000-P</td>\n",
       "      <td>49348.41</td>\n",
       "      <td>buy</td>\n",
       "      <td>1.0</td>\n",
       "    </tr>\n",
       "  </tbody>\n",
       "</table>\n",
       "</div>"
      ],
      "text/plain": [
       "   trade_seq  trade_id      timestamp  tick_direction   price    mark_price  \\\n",
       "0         74  65963909  1614651787853               2  0.0005  3.700000e-07   \n",
       "\n",
       "       iv     instrument_name  index_price direction  amount  \n",
       "0  191.33  BTC-2MAR21-45000-P     49348.41       buy     1.0  "
      ]
     },
     "execution_count": 17,
     "metadata": {},
     "output_type": "execute_result"
    }
   ],
   "source": [
    "newdftest"
   ]
  },
  {
   "cell_type": "code",
   "execution_count": 19,
   "metadata": {},
   "outputs": [],
   "source": [
    "appenddf = testingdf.append(newdftest)"
   ]
  },
  {
   "cell_type": "code",
   "execution_count": null,
   "metadata": {},
   "outputs": [
    {
     "name": "stdout",
     "output_type": "stream",
     "text": [
      "\n",
      "\n",
      "\n"
     ]
    },
    {
     "name": "stderr",
     "output_type": "stream",
     "text": [
      "<ipython-input-20-e8e8e166fcbb>:25: FutureWarning: pandas.io.json.json_normalize is deprecated, use pandas.json_normalize instead\n",
      "  data_norm = json_normalize(data['params']['data'])\n",
      "<ipython-input-21-49f87488901e>:25: FutureWarning: pandas.io.json.json_normalize is deprecated, use pandas.json_normalize instead\n",
      "  data_norm = json_normalize(data['params']['data'])\n",
      "<ipython-input-21-49f87488901e>:25: FutureWarning: pandas.io.json.json_normalize is deprecated, use pandas.json_normalize instead\n",
      "  data_norm = json_normalize(data['params']['data'])\n",
      "<ipython-input-21-49f87488901e>:25: FutureWarning: pandas.io.json.json_normalize is deprecated, use pandas.json_normalize instead\n",
      "  data_norm = json_normalize(data['params']['data'])\n",
      "<ipython-input-21-49f87488901e>:25: FutureWarning: pandas.io.json.json_normalize is deprecated, use pandas.json_normalize instead\n",
      "  data_norm = json_normalize(data['params']['data'])\n"
     ]
    },
    {
     "name": "stdout",
     "output_type": "stream",
     "text": [
      "   trade_seq  trade_id      timestamp  tick_direction  price  mark_price  \\\n",
      "0         36  65786384  1614562825997               2  0.006    0.007993   \n",
      "\n",
      "      iv     instrument_name  index_price direction  amount  \n",
      "0  75.16  BTC-1MAR21-46000-P     46235.44      sell     0.6  \n",
      "   trade_seq  trade_id      timestamp  tick_direction  price  mark_price  \\\n",
      "0         36  65786384  1614562825997               2  0.006    0.007993   \n",
      "\n",
      "      iv     instrument_name  index_price direction  amount  \n",
      "0  75.16  BTC-1MAR21-46000-P     46235.44      sell     0.6  \n",
      "\n",
      "\n",
      "\n",
      "   trade_seq  trade_id      timestamp  tick_direction  price  mark_price  \\\n",
      "0          3  65786385  1614562826004               3  0.003    0.013975   \n",
      "\n",
      "      iv     instrument_name  index_price direction  amount  \n",
      "0  16.81  BTC-2MAR21-46000-P     46235.44      sell     0.6  \n",
      "\n",
      "\n",
      "\n",
      "   trade_seq  trade_id      timestamp  tick_direction  price  mark_price  \\\n",
      "0         86  65786386  1614562826005               2  0.008    0.024244   \n",
      "\n",
      "      iv     instrument_name  index_price direction  amount  \n",
      "0  34.68  BTC-5MAR21-45000-P     46235.44      sell     0.6  \n",
      "\n",
      "\n",
      "\n",
      "   trade_seq  trade_id      timestamp  tick_direction  price  mark_price  \\\n",
      "0          3  65786387  1614562826007               1  0.002     0.00866   \n",
      "\n",
      "     iv     instrument_name  index_price direction  amount  \n",
      "0  41.0  BTC-2MAR21-45000-P     46235.44      sell     0.6  \n",
      "\n",
      "\n",
      "\n"
     ]
    },
    {
     "name": "stderr",
     "output_type": "stream",
     "text": [
      "<ipython-input-21-49f87488901e>:25: FutureWarning: pandas.io.json.json_normalize is deprecated, use pandas.json_normalize instead\n",
      "  data_norm = json_normalize(data['params']['data'])\n"
     ]
    },
    {
     "name": "stdout",
     "output_type": "stream",
     "text": [
      "   trade_seq  trade_id      timestamp  tick_direction   price  mark_price  \\\n",
      "0         33  65787851  1614563394701               0  0.0255    0.015129   \n",
      "\n",
      "       iv     instrument_name  index_price direction  amount  \n",
      "0  202.24  BTC-1MAR21-46000-C     46390.84       buy     0.1  \n",
      "\n",
      "\n",
      "\n"
     ]
    },
    {
     "name": "stderr",
     "output_type": "stream",
     "text": [
      "<ipython-input-21-49f87488901e>:25: FutureWarning: pandas.io.json.json_normalize is deprecated, use pandas.json_normalize instead\n",
      "  data_norm = json_normalize(data['params']['data'])\n"
     ]
    },
    {
     "name": "stdout",
     "output_type": "stream",
     "text": [
      "   trade_seq  trade_id      timestamp  tick_direction   price  mark_price  \\\n",
      "0         37  65787927  1614563416681               0  0.0085    0.007244   \n",
      "\n",
      "       iv     instrument_name  index_price direction  amount  \n",
      "0  111.61  BTC-1MAR21-46000-P     46366.65       buy     0.1  \n",
      "\n",
      "\n",
      "\n"
     ]
    },
    {
     "name": "stderr",
     "output_type": "stream",
     "text": [
      "<ipython-input-21-49f87488901e>:25: FutureWarning: pandas.io.json.json_normalize is deprecated, use pandas.json_normalize instead\n",
      "  data_norm = json_normalize(data['params']['data'])\n"
     ]
    },
    {
     "name": "stdout",
     "output_type": "stream",
     "text": [
      "   trade_seq  trade_id      timestamp  tick_direction   price  mark_price  \\\n",
      "0         34  65788576  1614563696501               2  0.0245    0.013993   \n",
      "\n",
      "       iv     instrument_name  index_price direction  amount  \n",
      "0  199.85  BTC-1MAR21-46000-C     46344.71       buy     0.9  \n",
      "\n",
      "\n",
      "\n"
     ]
    },
    {
     "name": "stderr",
     "output_type": "stream",
     "text": [
      "<ipython-input-21-49f87488901e>:25: FutureWarning: pandas.io.json.json_normalize is deprecated, use pandas.json_normalize instead\n",
      "  data_norm = json_normalize(data['params']['data'])\n"
     ]
    },
    {
     "name": "stdout",
     "output_type": "stream",
     "text": [
      "   trade_seq  trade_id      timestamp  tick_direction   price  mark_price  \\\n",
      "0         38  65790234  1614564134531               0  0.0095    0.007742   \n",
      "\n",
      "       iv     instrument_name  index_price direction  amount  \n",
      "0  116.86  BTC-1MAR21-46000-P     46291.91       buy     0.9  \n",
      "\n",
      "\n",
      "\n"
     ]
    },
    {
     "name": "stderr",
     "output_type": "stream",
     "text": [
      "<ipython-input-21-49f87488901e>:25: FutureWarning: pandas.io.json.json_normalize is deprecated, use pandas.json_normalize instead\n",
      "  data_norm = json_normalize(data['params']['data'])\n"
     ]
    },
    {
     "name": "stdout",
     "output_type": "stream",
     "text": [
      "   trade_seq  trade_id      timestamp  tick_direction  price  mark_price  \\\n",
      "0          4  65792212  1614564859260               0  0.014    0.007421   \n",
      "\n",
      "       iv     instrument_name  index_price direction  amount  \n",
      "0  114.86  BTC-2MAR21-45000-P     46474.59       buy     1.0  \n",
      "\n",
      "\n",
      "\n"
     ]
    },
    {
     "name": "stderr",
     "output_type": "stream",
     "text": [
      "<ipython-input-21-49f87488901e>:25: FutureWarning: pandas.io.json.json_normalize is deprecated, use pandas.json_normalize instead\n",
      "  data_norm = json_normalize(data['params']['data'])\n"
     ]
    },
    {
     "name": "stdout",
     "output_type": "stream",
     "text": [
      "   trade_seq  trade_id      timestamp  tick_direction  price  mark_price  \\\n",
      "0          1  65792377  1614564876709               1   0.06    0.045163   \n",
      "\n",
      "       iv     instrument_name  index_price direction  amount  \n",
      "0  169.91  BTC-2MAR21-48000-P     46469.09      sell     1.0  \n",
      "\n",
      "\n",
      "\n"
     ]
    },
    {
     "name": "stderr",
     "output_type": "stream",
     "text": [
      "<ipython-input-21-49f87488901e>:25: FutureWarning: pandas.io.json.json_normalize is deprecated, use pandas.json_normalize instead\n",
      "  data_norm = json_normalize(data['params']['data'])\n"
     ]
    },
    {
     "name": "stdout",
     "output_type": "stream",
     "text": [
      "   trade_seq  trade_id      timestamp  tick_direction  price  mark_price  \\\n",
      "0          2  65792498  1614564934085               2  0.002    0.002245   \n",
      "\n",
      "       iv     instrument_name  index_price direction  amount  \n",
      "0  114.82  BTC-1MAR21-45000-P     46487.83      sell     1.0  \n",
      "\n",
      "\n",
      "\n"
     ]
    },
    {
     "name": "stderr",
     "output_type": "stream",
     "text": [
      "<ipython-input-21-49f87488901e>:25: FutureWarning: pandas.io.json.json_normalize is deprecated, use pandas.json_normalize instead\n",
      "  data_norm = json_normalize(data['params']['data'])\n"
     ]
    },
    {
     "name": "stdout",
     "output_type": "stream",
     "text": [
      "   trade_seq  trade_id      timestamp  tick_direction  price  mark_price  \\\n",
      "0          1  65793913  1614565439660               1  0.004    0.004248   \n",
      "\n",
      "      iv     instrument_name  index_price direction  amount  \n",
      "0  120.4  BTC-1MAR21-45500-P     46560.43      sell     1.0  \n",
      "\n",
      "\n",
      "\n"
     ]
    },
    {
     "name": "stderr",
     "output_type": "stream",
     "text": [
      "<ipython-input-21-49f87488901e>:25: FutureWarning: pandas.io.json.json_normalize is deprecated, use pandas.json_normalize instead\n",
      "  data_norm = json_normalize(data['params']['data'])\n"
     ]
    },
    {
     "name": "stdout",
     "output_type": "stream",
     "text": [
      "   trade_seq  trade_id      timestamp  tick_direction  price  mark_price  \\\n",
      "0          1  65794021  1614565447720               1  0.022     0.02225   \n",
      "\n",
      "       iv     instrument_name  index_price direction  amount  \n",
      "0  166.98  BTC-1MAR21-47000-P     46588.21      sell     1.0  \n",
      "\n",
      "\n",
      "\n"
     ]
    },
    {
     "name": "stderr",
     "output_type": "stream",
     "text": [
      "<ipython-input-21-49f87488901e>:25: FutureWarning: pandas.io.json.json_normalize is deprecated, use pandas.json_normalize instead\n",
      "  data_norm = json_normalize(data['params']['data'])\n"
     ]
    },
    {
     "name": "stdout",
     "output_type": "stream",
     "text": [
      "   trade_seq  trade_id      timestamp  tick_direction  price  mark_price  \\\n",
      "0          1  65794084  1614565471890               1  0.008    0.008496   \n",
      "\n",
      "       iv     instrument_name  index_price direction  amount  \n",
      "0  119.52  BTC-2MAR21-44000-P     46650.59      sell     1.0  \n",
      "\n",
      "\n",
      "\n"
     ]
    },
    {
     "name": "stderr",
     "output_type": "stream",
     "text": [
      "<ipython-input-21-49f87488901e>:25: FutureWarning: pandas.io.json.json_normalize is deprecated, use pandas.json_normalize instead\n",
      "  data_norm = json_normalize(data['params']['data'])\n"
     ]
    },
    {
     "name": "stdout",
     "output_type": "stream",
     "text": [
      "   trade_seq  trade_id      timestamp  tick_direction  price  mark_price  \\\n",
      "0          4  65794085  1614565473882               0  0.021     0.02125   \n",
      "\n",
      "       iv     instrument_name  index_price direction  amount  \n",
      "0  114.88  BTC-2MAR21-46000-P     46653.75      sell     1.0  \n",
      "\n",
      "\n",
      "\n"
     ]
    },
    {
     "name": "stderr",
     "output_type": "stream",
     "text": [
      "<ipython-input-21-49f87488901e>:25: FutureWarning: pandas.io.json.json_normalize is deprecated, use pandas.json_normalize instead\n",
      "  data_norm = json_normalize(data['params']['data'])\n"
     ]
    },
    {
     "name": "stdout",
     "output_type": "stream",
     "text": [
      "   trade_seq  trade_id      timestamp  tick_direction  price  mark_price  \\\n",
      "0         39  65794199  1614565479983               2  0.006    0.006249   \n",
      "\n",
      "      iv     instrument_name  index_price direction  amount  \n",
      "0  118.3  BTC-1MAR21-46000-P     46701.98      sell     3.0  \n",
      "\n",
      "\n",
      "\n"
     ]
    },
    {
     "name": "stderr",
     "output_type": "stream",
     "text": [
      "<ipython-input-21-49f87488901e>:25: FutureWarning: pandas.io.json.json_normalize is deprecated, use pandas.json_normalize instead\n",
      "  data_norm = json_normalize(data['params']['data'])\n"
     ]
    },
    {
     "name": "stdout",
     "output_type": "stream",
     "text": [
      "   trade_seq  trade_id      timestamp  tick_direction  price  mark_price  \\\n",
      "0          5  65794563  1614565593736               2  0.012     0.01225   \n",
      "\n",
      "       iv     instrument_name  index_price direction  amount  \n",
      "0  114.79  BTC-2MAR21-45000-P     46803.95      sell     1.0  \n",
      "\n",
      "\n",
      "\n"
     ]
    },
    {
     "name": "stderr",
     "output_type": "stream",
     "text": [
      "<ipython-input-21-49f87488901e>:25: FutureWarning: pandas.io.json.json_normalize is deprecated, use pandas.json_normalize instead\n",
      "  data_norm = json_normalize(data['params']['data'])\n"
     ]
    },
    {
     "name": "stdout",
     "output_type": "stream",
     "text": [
      "   trade_seq  trade_id      timestamp  tick_direction  price  mark_price  \\\n",
      "0          1  65794599  1614565603807               1  0.042      0.0425   \n",
      "\n",
      "       iv     instrument_name  index_price direction  amount  \n",
      "0  165.95  BTC-2MAR21-47000-P     46817.33      sell     1.0  \n",
      "\n",
      "\n",
      "\n"
     ]
    },
    {
     "name": "stderr",
     "output_type": "stream",
     "text": [
      "<ipython-input-21-49f87488901e>:25: FutureWarning: pandas.io.json.json_normalize is deprecated, use pandas.json_normalize instead\n",
      "  data_norm = json_normalize(data['params']['data'])\n"
     ]
    },
    {
     "name": "stdout",
     "output_type": "stream",
     "text": [
      "   trade_seq  trade_id      timestamp  tick_direction  price  mark_price  \\\n",
      "0          1  65796157  1614566408257               1    0.5    0.536244   \n",
      "\n",
      "       iv      instrument_name  index_price direction block_trade_id  amount  \n",
      "0  214.09  BTC-25JUN21-42000-C     46691.18      sell          36990    25.0  \n",
      "\n",
      "\n",
      "\n"
     ]
    },
    {
     "name": "stderr",
     "output_type": "stream",
     "text": [
      "<ipython-input-21-49f87488901e>:25: FutureWarning: pandas.io.json.json_normalize is deprecated, use pandas.json_normalize instead\n",
      "  data_norm = json_normalize(data['params']['data'])\n"
     ]
    },
    {
     "name": "stdout",
     "output_type": "stream",
     "text": [
      "   trade_seq  trade_id      timestamp  tick_direction  price  mark_price  \\\n",
      "0          2  65799725  1614568004442               1  0.004    0.002705   \n",
      "\n",
      "       iv     instrument_name  index_price direction  amount  \n",
      "0  119.11  BTC-1MAR21-45500-P     46429.01       buy     1.1  \n",
      "\n",
      "\n",
      "\n"
     ]
    },
    {
     "name": "stderr",
     "output_type": "stream",
     "text": [
      "<ipython-input-21-49f87488901e>:25: FutureWarning: pandas.io.json.json_normalize is deprecated, use pandas.json_normalize instead\n",
      "  data_norm = json_normalize(data['params']['data'])\n"
     ]
    },
    {
     "name": "stdout",
     "output_type": "stream",
     "text": [
      "   trade_seq  trade_id      timestamp  tick_direction  price  mark_price  \\\n",
      "0          1  65799828  1614568033844               1  0.007    0.007433   \n",
      "\n",
      "      iv     instrument_name  index_price direction  amount  \n",
      "0  157.4  BTC-2MAR21-51000-C     46487.97      sell     1.0  \n",
      "\n",
      "\n",
      "\n"
     ]
    },
    {
     "name": "stderr",
     "output_type": "stream",
     "text": [
      "<ipython-input-21-49f87488901e>:25: FutureWarning: pandas.io.json.json_normalize is deprecated, use pandas.json_normalize instead\n",
      "  data_norm = json_normalize(data['params']['data'])\n"
     ]
    },
    {
     "name": "stdout",
     "output_type": "stream",
     "text": [
      "   trade_seq  trade_id      timestamp  tick_direction  price  mark_price  \\\n",
      "0         40  65802135  1614569177792               3  0.006    0.006249   \n",
      "\n",
      "       iv     instrument_name  index_price direction  amount  \n",
      "0  119.03  BTC-1MAR21-46000-P     46565.45      sell     3.0  \n",
      "\n",
      "\n",
      "\n"
     ]
    },
    {
     "name": "stderr",
     "output_type": "stream",
     "text": [
      "<ipython-input-21-49f87488901e>:25: FutureWarning: pandas.io.json.json_normalize is deprecated, use pandas.json_normalize instead\n",
      "  data_norm = json_normalize(data['params']['data'])\n"
     ]
    },
    {
     "name": "stdout",
     "output_type": "stream",
     "text": [
      "   trade_seq  trade_id      timestamp  tick_direction  price  mark_price  \\\n",
      "0         35  65802999  1614569729948               2  0.023    0.014364   \n",
      "\n",
      "       iv     instrument_name  index_price direction  amount  \n",
      "0  202.51  BTC-1MAR21-46000-C     46449.04       buy     1.0  \n",
      "\n",
      "\n",
      "\n"
     ]
    }
   ],
   "source": [
    "import asyncio\n",
    "import websockets\n",
    "import json\n",
    "\n",
    "# To subscribe to this channel:\n",
    "msg = \\\n",
    "    {\"jsonrpc\": \"2.0\",\n",
    "     \"method\": \"public/subscribe\",\n",
    "     \"id\": 42,\n",
    "     \"params\": {\n",
    "        \"channels\": [\"trades.option.BTC.raw\"]}\n",
    "    }\n",
    "\n",
    "async def call_api(msg):\n",
    "   async with websockets.connect('wss://test.deribit.com/ws/api/v2') as websocket:\n",
    "       await websocket.send(msg)\n",
    "       while websocket.open:\n",
    "           response = await websocket.recv()\n",
    "           data = response\n",
    "           data = json.loads(data)\n",
    "           from pandas.io.json import json_normalize\n",
    "           if('result' in data):\n",
    "               pass\n",
    "           else:\n",
    "               data_norm = json_normalize(data['params']['data'])\n",
    "               #data_norm.to_csv(\"./option_trade_log.csv\", mode='a')\n",
    "               print(data_norm)\n",
    "               #return data_norm\n",
    "\n",
    "           print(\"\\n\\n\")\n",
    "\n",
    "\n",
    "asyncio.get_event_loop().run_until_complete(call_api(json.dumps(msg)))"
   ]
  },
  {
   "cell_type": "code",
   "execution_count": null,
   "metadata": {},
   "outputs": [],
   "source": []
  }
 ],
 "metadata": {
  "kernelspec": {
   "display_name": "Python 3",
   "language": "python",
   "name": "python3"
  },
  "language_info": {
   "codemirror_mode": {
    "name": "ipython",
    "version": 3
   },
   "file_extension": ".py",
   "mimetype": "text/x-python",
   "name": "python",
   "nbconvert_exporter": "python",
   "pygments_lexer": "ipython3",
   "version": "3.9.1"
  }
 },
 "nbformat": 4,
 "nbformat_minor": 5
}
