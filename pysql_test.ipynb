{
 "cells": [
  {
   "cell_type": "code",
   "execution_count": 1,
   "id": "adaptive-thesaurus",
   "metadata": {},
   "outputs": [],
   "source": [
    "import pymysql\n",
    "import math\n",
    "import scipy.stats as stat\n",
    "from scipy.stats import norm\n",
    "import pandas as pd\n",
    "import numpy as np\n",
    "import urllib.request, json\n",
    "import sqlalchemy"
   ]
  },
  {
   "cell_type": "code",
   "execution_count": 25,
   "id": "following-banana",
   "metadata": {},
   "outputs": [],
   "source": [
    "#grab the entire table from sql\n",
    "#contains recent traded option log and updated gex/vex/ddoi values\n",
    "#make this take an argument in case we have more tables in the future\n",
    "def get_sql_df():\n",
    "    Host = 'deribit-db-instance.csduabs5w5go.us-east-1.rds.amazonaws.com'\n",
    "    User = 'admin'\n",
    "    Password = 'Deribit123'\n",
    "    Database = 'deribit'\n",
    "    #con = pymysql.connect(user=User, password=Password,host=Host, database=Database, port=3306, ssl='../../Downloads/deribit-key-pair.pem')\n",
    "    #wtf? no ssl param needed anymore?\n",
    "    con = pymysql.connect(user=User, password=Password,host=Host, database=Database, port=3306)\n",
    "    try:\n",
    "        with con.cursor() as cur:\n",
    "            query = \"SELECT *\\\n",
    "                    FROM deribit.option_table\\\n",
    "                    WHERE str_to_date(substring(instrument_name, locate('-',instrument_name)+1,locate('-', instrument_name, locate('-',instrument_name)+1) - locate('-',instrument_name)-1), '%d%b%y') >= CURDATE();\"\n",
    "            cur.execute(query)\n",
    "            df = pd.read_sql(query, con)\n",
    "            return df\n",
    "    finally:\n",
    "        con.close()\n",
    "        "
   ]
  },
  {
   "cell_type": "code",
   "execution_count": 26,
   "id": "becoming-shirt",
   "metadata": {},
   "outputs": [],
   "source": [
    "df = get_sql_df()\n",
    "#df"
   ]
  },
  {
   "cell_type": "code",
   "execution_count": 27,
   "id": "naval-diamond",
   "metadata": {},
   "outputs": [
    {
     "data": {
      "text/plain": [
       "(56, 15)"
      ]
     },
     "execution_count": 27,
     "metadata": {},
     "output_type": "execute_result"
    }
   ],
   "source": [
    "df.shape"
   ]
  },
  {
   "cell_type": "code",
   "execution_count": 28,
   "id": "front-being",
   "metadata": {},
   "outputs": [
    {
     "data": {
      "text/plain": [
       "(57, 15)"
      ]
     },
     "execution_count": 28,
     "metadata": {},
     "output_type": "execute_result"
    }
   ],
   "source": [
    "#append last trade as a new trade to simulate what we would do if we just got a new trade\n",
    "new_trade = df.iloc[-1].copy()\n",
    "df.loc[(df.shape[0] + 1)] = new_trade\n",
    "df.shape"
   ]
  },
  {
   "cell_type": "code",
   "execution_count": 29,
   "id": "driven-howard",
   "metadata": {},
   "outputs": [],
   "source": [
    "testingdf = df.copy()\n",
    "#testingdf"
   ]
  },
  {
   "cell_type": "code",
   "execution_count": 30,
   "id": "scheduled-sixth",
   "metadata": {},
   "outputs": [],
   "source": [
    "#testingdf = testingdf.filter(['instrument_name', 'direction', 'amount'])\n",
    "#testingdf['direction'] = testingdf['direction'].replace('buy', 1)\n",
    "#testingdf['direction'] = testingdf['direction'].replace('sell', -1)\n",
    "#testingdf = testingdf.assign(net_amount = lambda x: (x['amount'] * x['direction']))\n",
    "#aggr_df = testingdf.groupby(['instrument_name'], sort=False).agg({'net_amount': sum})\n",
    "#aggr_df.reset_index(level=0, inplace=True)"
   ]
  },
  {
   "cell_type": "code",
   "execution_count": 31,
   "id": "undefined-removal",
   "metadata": {},
   "outputs": [],
   "source": [
    "def get_df(df):\n",
    "    df = df.filter(['instrument_name', 'direction', 'amount'])\n",
    "    df['direction'] = df['direction'].replace('buy', 1)\n",
    "    df['direction'] = df['direction'].replace('sell', -1)\n",
    "    df = df.assign(net_amount = lambda x: (x['amount'] * x['direction']))\n",
    "    aggr_df = df.groupby(['instrument_name'], sort=False).agg({'net_amount': sum})\n",
    "    aggr_df.reset_index(level=0, inplace=True)\n",
    "    return aggr_df"
   ]
  },
  {
   "cell_type": "code",
   "execution_count": 32,
   "id": "killing-surveillance",
   "metadata": {},
   "outputs": [],
   "source": [
    "no_stale = get_df(testingdf)"
   ]
  },
  {
   "cell_type": "code",
   "execution_count": 34,
   "id": "affected-circular",
   "metadata": {},
   "outputs": [
    {
     "data": {
      "text/html": [
       "<div>\n",
       "<style scoped>\n",
       "    .dataframe tbody tr th:only-of-type {\n",
       "        vertical-align: middle;\n",
       "    }\n",
       "\n",
       "    .dataframe tbody tr th {\n",
       "        vertical-align: top;\n",
       "    }\n",
       "\n",
       "    .dataframe thead th {\n",
       "        text-align: right;\n",
       "    }\n",
       "</style>\n",
       "<table border=\"1\" class=\"dataframe\">\n",
       "  <thead>\n",
       "    <tr style=\"text-align: right;\">\n",
       "      <th></th>\n",
       "      <th>instrument_name</th>\n",
       "      <th>net_amount</th>\n",
       "    </tr>\n",
       "  </thead>\n",
       "  <tbody>\n",
       "    <tr>\n",
       "      <th>0</th>\n",
       "      <td>BTC-26MAR21-54000-C</td>\n",
       "      <td>10</td>\n",
       "    </tr>\n",
       "    <tr>\n",
       "      <th>1</th>\n",
       "      <td>BTC-26MAR21-11000-P</td>\n",
       "      <td>0</td>\n",
       "    </tr>\n",
       "    <tr>\n",
       "      <th>2</th>\n",
       "      <td>BTC-26MAR21-16000-P</td>\n",
       "      <td>0</td>\n",
       "    </tr>\n",
       "    <tr>\n",
       "      <th>3</th>\n",
       "      <td>BTC-26MAR21-10000-P</td>\n",
       "      <td>1</td>\n",
       "    </tr>\n",
       "    <tr>\n",
       "      <th>4</th>\n",
       "      <td>BTC-25JUN21-46000-C</td>\n",
       "      <td>38764</td>\n",
       "    </tr>\n",
       "    <tr>\n",
       "      <th>5</th>\n",
       "      <td>BTC-25JUN21-60000-C</td>\n",
       "      <td>38765</td>\n",
       "    </tr>\n",
       "    <tr>\n",
       "      <th>6</th>\n",
       "      <td>BTC-26MAR21-28000-C</td>\n",
       "      <td>38</td>\n",
       "    </tr>\n",
       "  </tbody>\n",
       "</table>\n",
       "</div>"
      ],
      "text/plain": [
       "       instrument_name  net_amount\n",
       "0  BTC-26MAR21-54000-C          10\n",
       "1  BTC-26MAR21-11000-P           0\n",
       "2  BTC-26MAR21-16000-P           0\n",
       "3  BTC-26MAR21-10000-P           1\n",
       "4  BTC-25JUN21-46000-C       38764\n",
       "5  BTC-25JUN21-60000-C       38765\n",
       "6  BTC-26MAR21-28000-C          38"
      ]
     },
     "execution_count": 34,
     "metadata": {},
     "output_type": "execute_result"
    }
   ],
   "source": [
    "no_stale"
   ]
  },
  {
   "cell_type": "code",
   "execution_count": 35,
   "id": "dutch-attack",
   "metadata": {},
   "outputs": [
    {
     "data": {
      "text/html": [
       "<div>\n",
       "<style scoped>\n",
       "    .dataframe tbody tr th:only-of-type {\n",
       "        vertical-align: middle;\n",
       "    }\n",
       "\n",
       "    .dataframe tbody tr th {\n",
       "        vertical-align: top;\n",
       "    }\n",
       "\n",
       "    .dataframe thead th {\n",
       "        text-align: right;\n",
       "    }\n",
       "</style>\n",
       "<table border=\"1\" class=\"dataframe\">\n",
       "  <thead>\n",
       "    <tr style=\"text-align: right;\">\n",
       "      <th></th>\n",
       "      <th>underlying_price</th>\n",
       "      <th>underlying_index</th>\n",
       "      <th>timestamp</th>\n",
       "      <th>stats</th>\n",
       "      <th>state</th>\n",
       "      <th>open_interest</th>\n",
       "      <th>min_price</th>\n",
       "      <th>max_price</th>\n",
       "      <th>mark_price</th>\n",
       "      <th>mark_iv</th>\n",
       "      <th>...</th>\n",
       "      <th>delivery_price</th>\n",
       "      <th>change_id</th>\n",
       "      <th>bids</th>\n",
       "      <th>bid_iv</th>\n",
       "      <th>best_bid_price</th>\n",
       "      <th>best_bid_amount</th>\n",
       "      <th>best_ask_price</th>\n",
       "      <th>best_ask_amount</th>\n",
       "      <th>asks</th>\n",
       "      <th>ask_iv</th>\n",
       "    </tr>\n",
       "  </thead>\n",
       "  <tbody>\n",
       "    <tr>\n",
       "      <th>0</th>\n",
       "      <td>47155.7</td>\n",
       "      <td>SYN.BTC-5MAR21</td>\n",
       "      <td>1614931200012</td>\n",
       "      <td>{'volume': None, 'price_change': None, 'low': ...</td>\n",
       "      <td>closed</td>\n",
       "      <td>0</td>\n",
       "      <td>0.0001</td>\n",
       "      <td>0.2</td>\n",
       "      <td>0</td>\n",
       "      <td>250</td>\n",
       "      <td>...</td>\n",
       "      <td>47191.3</td>\n",
       "      <td>5419243086</td>\n",
       "      <td>[]</td>\n",
       "      <td>0</td>\n",
       "      <td>0</td>\n",
       "      <td>0</td>\n",
       "      <td>0</td>\n",
       "      <td>0</td>\n",
       "      <td>[]</td>\n",
       "      <td>0</td>\n",
       "    </tr>\n",
       "  </tbody>\n",
       "</table>\n",
       "<p>1 rows × 26 columns</p>\n",
       "</div>"
      ],
      "text/plain": [
       "  underlying_price underlying_index      timestamp  \\\n",
       "0          47155.7   SYN.BTC-5MAR21  1614931200012   \n",
       "\n",
       "                                               stats   state open_interest  \\\n",
       "0  {'volume': None, 'price_change': None, 'low': ...  closed             0   \n",
       "\n",
       "  min_price max_price mark_price mark_iv  ... delivery_price   change_id bids  \\\n",
       "0    0.0001       0.2          0     250  ...        47191.3  5419243086   []   \n",
       "\n",
       "  bid_iv best_bid_price best_bid_amount best_ask_price best_ask_amount asks  \\\n",
       "0      0              0               0              0               0   []   \n",
       "\n",
       "  ask_iv  \n",
       "0      0  \n",
       "\n",
       "[1 rows x 26 columns]"
      ]
     },
     "execution_count": 35,
     "metadata": {},
     "output_type": "execute_result"
    }
   ],
   "source": [
    "get_orderbook_url = \"https://test.deribit.com/api/v2/public/get_order_book?depth=5&instrument_name=BTC-5MAR21-57000-C\"\n",
    "with urllib.request.urlopen(get_orderbook_url) as get_orderbook_url:\n",
    "    ob_data = json.loads(get_orderbook_url.read().decode())\n",
    "ob_data = pd.DataFrame.from_dict(ob_data['result'], orient='index')\n",
    "ob_data = ob_data.transpose()\n",
    "ob_data"
   ]
  },
  {
   "cell_type": "code",
   "execution_count": 36,
   "id": "overhead-extra",
   "metadata": {},
   "outputs": [],
   "source": [
    "def get_orderbook_data(df_to_append_to, instrument_name):\n",
    "    #use this to get relevant information from deribit: i.e greeks, open interest,& interest rate\n",
    "    get_orderbook_url = \"https://test.deribit.com/api/v2/public/get_order_book?depth=5&instrument_name=\"\n",
    "    get_orderbook_url += instrument_name\n",
    "    with urllib.request.urlopen(get_orderbook_url) as get_orderbook_url:\n",
    "        orderbook_data = json.loads(get_orderbook_url.read().decode())\n",
    "    orderbook_data = pd.DataFrame.from_dict(orderbook_data['result'], orient='index')\n",
    "    orderbook_data = orderbook_data.transpose()\n",
    "    combined_df = df_to_append_to.append(orderbook_data, ignore_index=True)\n",
    "    return combined_df"
   ]
  },
  {
   "cell_type": "code",
   "execution_count": 37,
   "id": "nonprofit-raleigh",
   "metadata": {},
   "outputs": [],
   "source": [
    "def get_greeks(active_trades):\n",
    "    greeks = pd.DataFrame()\n",
    "    for i in active_trades['instrument_name']:\n",
    "        greeks = get_orderbook_data(greeks, i)\n",
    "    columns = greeks.loc[:, ['underlying_price','underlying_index', 'open_interest','interest_rate', 'mark_iv', 'greeks']]\n",
    "    greeks = pd.DataFrame(columns['greeks'].values.tolist())\n",
    "    columns = columns.drop(['greeks'], axis = 1)\n",
    "    greeks = greeks.join(columns)\n",
    "    greeks['vanna'] = np.nan\n",
    "    return greeks"
   ]
  },
  {
   "cell_type": "code",
   "execution_count": 38,
   "id": "overhead-palestine",
   "metadata": {},
   "outputs": [],
   "source": [
    "greeks = get_greeks(no_stale)"
   ]
  },
  {
   "cell_type": "code",
   "execution_count": 39,
   "id": "coastal-federation",
   "metadata": {},
   "outputs": [],
   "source": [
    "def get_gex(active_trades, active_trades_greeks):\n",
    "    total_gamma = active_trades['net_amount'] * active_trades_greeks['gamma']\n",
    "    return sum(total_gamma)"
   ]
  },
  {
   "cell_type": "code",
   "execution_count": 40,
   "id": "driving-official",
   "metadata": {},
   "outputs": [
    {
     "data": {
      "text/plain": [
       "0.7756000000000001"
      ]
     },
     "execution_count": 40,
     "metadata": {},
     "output_type": "execute_result"
    }
   ],
   "source": [
    "get_gex(no_stale, greeks)"
   ]
  },
  {
   "cell_type": "code",
   "execution_count": 50,
   "id": "imported-taiwan",
   "metadata": {},
   "outputs": [
    {
     "name": "stdout",
     "output_type": "stream",
     "text": [
      "0    57870.3\n",
      "1    57869.9\n",
      "2    57869.9\n",
      "3    57869.9\n",
      "4    61324.8\n",
      "5    61324.8\n",
      "6    57869.8\n",
      "Name: underlying_price, dtype: object\n"
     ]
    },
    {
     "ename": "TypeError",
     "evalue": "cannot convert the series to <class 'float'>",
     "output_type": "error",
     "traceback": [
      "\u001b[0;31m---------------------------------------------------------------------------\u001b[0m",
      "\u001b[0;31mTypeError\u001b[0m                                 Traceback (most recent call last)",
      "\u001b[0;32m<ipython-input-50-76276825f65b>\u001b[0m in \u001b[0;36m<module>\u001b[0;34m()\u001b[0m\n\u001b[1;32m      7\u001b[0m \u001b[0msigmaT\u001b[0m \u001b[0;34m=\u001b[0m \u001b[0mgreeks\u001b[0m\u001b[0;34m[\u001b[0m\u001b[0;34m'mark_iv'\u001b[0m\u001b[0;34m]\u001b[0m \u001b[0;34m*\u001b[0m \u001b[0mactive_trades\u001b[0m\u001b[0;34m[\u001b[0m\u001b[0;34m'dte'\u001b[0m\u001b[0;34m]\u001b[0m \u001b[0;34m**\u001b[0m \u001b[0;36m0.5\u001b[0m\u001b[0;34m\u001b[0m\u001b[0;34m\u001b[0m\u001b[0m\n\u001b[1;32m      8\u001b[0m \u001b[0mprint\u001b[0m\u001b[0;34m(\u001b[0m\u001b[0mgreeks\u001b[0m\u001b[0;34m[\u001b[0m\u001b[0;34m'underlying_price'\u001b[0m\u001b[0;34m]\u001b[0m\u001b[0;34m)\u001b[0m\u001b[0;34m\u001b[0m\u001b[0;34m\u001b[0m\u001b[0m\n\u001b[0;32m----> 9\u001b[0;31m \u001b[0mprint\u001b[0m\u001b[0;34m(\u001b[0m\u001b[0mtype\u001b[0m\u001b[0;34m(\u001b[0m\u001b[0mmath\u001b[0m\u001b[0;34m.\u001b[0m\u001b[0mlog\u001b[0m\u001b[0;34m(\u001b[0m\u001b[0mgreeks\u001b[0m\u001b[0;34m[\u001b[0m\u001b[0;34m'underlying_price'\u001b[0m\u001b[0;34m]\u001b[0m\u001b[0;34m)\u001b[0m\u001b[0;34m/\u001b[0m\u001b[0mactive_trades\u001b[0m\u001b[0;34m[\u001b[0m\u001b[0;34m'strike'\u001b[0m\u001b[0;34m]\u001b[0m\u001b[0;34m)\u001b[0m\u001b[0;34m)\u001b[0m\u001b[0;34m\u001b[0m\u001b[0;34m\u001b[0m\u001b[0m\n\u001b[0m\u001b[1;32m     10\u001b[0m \u001b[0mprint\u001b[0m\u001b[0;34m(\u001b[0m\u001b[0mtype\u001b[0m\u001b[0;34m(\u001b[0m\u001b[0mactive_trades\u001b[0m\u001b[0;34m[\u001b[0m\u001b[0;34m'strike'\u001b[0m\u001b[0;34m]\u001b[0m\u001b[0;34m)\u001b[0m\u001b[0;34m)\u001b[0m\u001b[0;34m\u001b[0m\u001b[0;34m\u001b[0m\u001b[0m\n\u001b[1;32m     11\u001b[0m \u001b[0mprint\u001b[0m\u001b[0;34m(\u001b[0m\u001b[0mtype\u001b[0m\u001b[0;34m(\u001b[0m\u001b[0;34m(\u001b[0m\u001b[0mgreeks\u001b[0m\u001b[0;34m[\u001b[0m\u001b[0;34m'interest_rate'\u001b[0m\u001b[0;34m]\u001b[0m\u001b[0;34m)\u001b[0m\u001b[0;34m)\u001b[0m\u001b[0;34m)\u001b[0m\u001b[0;34m\u001b[0m\u001b[0;34m\u001b[0m\u001b[0m\n",
      "\u001b[0;32m/home/tjang/anaconda3/envs/ml/lib/python3.7/site-packages/pandas/core/series.py\u001b[0m in \u001b[0;36mwrapper\u001b[0;34m(self)\u001b[0m\n\u001b[1;32m    127\u001b[0m         \u001b[0;32mif\u001b[0m \u001b[0mlen\u001b[0m\u001b[0;34m(\u001b[0m\u001b[0mself\u001b[0m\u001b[0;34m)\u001b[0m \u001b[0;34m==\u001b[0m \u001b[0;36m1\u001b[0m\u001b[0;34m:\u001b[0m\u001b[0;34m\u001b[0m\u001b[0;34m\u001b[0m\u001b[0m\n\u001b[1;32m    128\u001b[0m             \u001b[0;32mreturn\u001b[0m \u001b[0mconverter\u001b[0m\u001b[0;34m(\u001b[0m\u001b[0mself\u001b[0m\u001b[0;34m.\u001b[0m\u001b[0miloc\u001b[0m\u001b[0;34m[\u001b[0m\u001b[0;36m0\u001b[0m\u001b[0;34m]\u001b[0m\u001b[0;34m)\u001b[0m\u001b[0;34m\u001b[0m\u001b[0;34m\u001b[0m\u001b[0m\n\u001b[0;32m--> 129\u001b[0;31m         \u001b[0;32mraise\u001b[0m \u001b[0mTypeError\u001b[0m\u001b[0;34m(\u001b[0m\u001b[0;34mf\"cannot convert the series to {converter}\"\u001b[0m\u001b[0;34m)\u001b[0m\u001b[0;34m\u001b[0m\u001b[0;34m\u001b[0m\u001b[0m\n\u001b[0m\u001b[1;32m    130\u001b[0m \u001b[0;34m\u001b[0m\u001b[0m\n\u001b[1;32m    131\u001b[0m     \u001b[0mwrapper\u001b[0m\u001b[0;34m.\u001b[0m\u001b[0m__name__\u001b[0m \u001b[0;34m=\u001b[0m \u001b[0;34mf\"__{converter.__name__}__\"\u001b[0m\u001b[0;34m\u001b[0m\u001b[0;34m\u001b[0m\u001b[0m\n",
      "\u001b[0;31mTypeError\u001b[0m: cannot convert the series to <class 'float'>"
     ]
    }
   ],
   "source": [
    "active_trades = no_stale\n",
    "dte = pd.to_datetime(active_trades['instrument_name'].apply(lambda x: x.split('-')[1]))-pd.Timestamp.today()\n",
    "strike = active_trades['instrument_name'].apply(lambda x: x.split('-')[2]).astype(int)\n",
    "active_trades['strike'] = strike\n",
    "#active_trades.astype({'strike': 'int32'}).dtypes\n",
    "active_trades['dte'] = dte.dt.days\n",
    "sigmaT = greeks['mark_iv'] * active_trades['dte'] ** 0.5\n",
    "print(greeks['underlying_price'])\n",
    "print(type(math.log(greeks['underlying_price'])/active_trades['strike']))\n",
    "print(type(active_trades['strike']))\n",
    "print(type((greeks['interest_rate'])))\n",
    "print(type(greeks['mark_iv'] ** 2))\n",
    "print(type(active_trades['dte']))\n",
    "print(type(sigmaT))\n",
    "#d1 = (math.log(greeks['underlying_price'] / active_trades['strike']) + \\\n",
    " #     (greeks['interest_rate'] * 0.5 * (greeks['mark_iv'] ** 2)) \\\n",
    "  #    * active_trades['dte']) / sigmaT"
   ]
  },
  {
   "cell_type": "code",
   "execution_count": 18,
   "id": "recovered-consultancy",
   "metadata": {},
   "outputs": [],
   "source": [
    "def get_vanna(active_trades, greeks):\n",
    "    #get days till expiration from active trades and add as a series\n",
    "    dte = pd.to_datetime(active_trades['instrument_name'].apply(lambda x: x.split('-')[1]))-pd.Timestamp.today()\n",
    "    strike = active_trades['instrument_name'].apply(lambda x: x.split('-')[2]).astype(int)\n",
    "    active_trades['strike'] = strike\n",
    "    #active_trades.astype({'strike': 'int32'}).dtypes\n",
    "    active_trades['dte'] = dte.dt.days\n",
    "    sigmaT = greeks['mark_iv'] * active_trades['dte'] ** 0.5\n",
    "    d1 = (math.log(greeks['underlying_price'] / active_trades['strike']) + \\\n",
    "                   (greeks['interest_rate'] * 0.5 * (greeks['mark_iv'] ** 2)) \\\n",
    "                   * active_trades['dte']) / sigmaT\n",
    "    d2 = d1 - sigmaT\n",
    "    vannas = []\n",
    "    #we'd like to vectorize this but d1 norm.pdf(d1) is not trivial due to some stupid type error\n",
    "    #I can't be bothered to figure out right now\n",
    "    for i in range(active_trades.shape[0]):\n",
    "        vannas.append(0.01 * -math.e ** active_trades['dte'][i] * d2[i] / greeks['mark_iv'][i] * norm.pdf(d1[i]))\n",
    "    return vannas\n",
    "    #[0.01 * -e ** (-self.q * self.T) * self.d2 / self.sigma * norm.pdf(self.d1)]"
   ]
  },
  {
   "cell_type": "code",
   "execution_count": 19,
   "id": "adult-canberra",
   "metadata": {},
   "outputs": [
    {
     "ename": "TypeError",
     "evalue": "cannot convert the series to <class 'float'>",
     "output_type": "error",
     "traceback": [
      "\u001b[0;31m---------------------------------------------------------------------------\u001b[0m",
      "\u001b[0;31mTypeError\u001b[0m                                 Traceback (most recent call last)",
      "\u001b[0;32m<ipython-input-19-bd026a20ae55>\u001b[0m in \u001b[0;36m<module>\u001b[0;34m()\u001b[0m\n\u001b[0;32m----> 1\u001b[0;31m \u001b[0mvanna\u001b[0m \u001b[0;34m=\u001b[0m \u001b[0mget_vanna\u001b[0m\u001b[0;34m(\u001b[0m\u001b[0mno_stale\u001b[0m\u001b[0;34m,\u001b[0m \u001b[0mgreeks\u001b[0m\u001b[0;34m)\u001b[0m\u001b[0;34m\u001b[0m\u001b[0;34m\u001b[0m\u001b[0m\n\u001b[0m",
      "\u001b[0;32m<ipython-input-18-bc88d1dc67d8>\u001b[0m in \u001b[0;36mget_vanna\u001b[0;34m(active_trades, greeks)\u001b[0m\n\u001b[1;32m      7\u001b[0m     \u001b[0mactive_trades\u001b[0m\u001b[0;34m[\u001b[0m\u001b[0;34m'dte'\u001b[0m\u001b[0;34m]\u001b[0m \u001b[0;34m=\u001b[0m \u001b[0mdte\u001b[0m\u001b[0;34m.\u001b[0m\u001b[0mdt\u001b[0m\u001b[0;34m.\u001b[0m\u001b[0mdays\u001b[0m\u001b[0;34m\u001b[0m\u001b[0;34m\u001b[0m\u001b[0m\n\u001b[1;32m      8\u001b[0m     \u001b[0msigmaT\u001b[0m \u001b[0;34m=\u001b[0m \u001b[0mgreeks\u001b[0m\u001b[0;34m[\u001b[0m\u001b[0;34m'mark_iv'\u001b[0m\u001b[0;34m]\u001b[0m \u001b[0;34m*\u001b[0m \u001b[0mactive_trades\u001b[0m\u001b[0;34m[\u001b[0m\u001b[0;34m'dte'\u001b[0m\u001b[0;34m]\u001b[0m \u001b[0;34m**\u001b[0m \u001b[0;36m0.5\u001b[0m\u001b[0;34m\u001b[0m\u001b[0;34m\u001b[0m\u001b[0m\n\u001b[0;32m----> 9\u001b[0;31m     \u001b[0md1\u001b[0m \u001b[0;34m=\u001b[0m \u001b[0;34m(\u001b[0m\u001b[0mmath\u001b[0m\u001b[0;34m.\u001b[0m\u001b[0mlog\u001b[0m\u001b[0;34m(\u001b[0m\u001b[0mgreeks\u001b[0m\u001b[0;34m[\u001b[0m\u001b[0;34m'underlying_price'\u001b[0m\u001b[0;34m]\u001b[0m \u001b[0;34m/\u001b[0m \u001b[0mactive_trades\u001b[0m\u001b[0;34m[\u001b[0m\u001b[0;34m'strike'\u001b[0m\u001b[0;34m]\u001b[0m\u001b[0;34m)\u001b[0m \u001b[0;34m+\u001b[0m                    \u001b[0;34m(\u001b[0m\u001b[0mgreeks\u001b[0m\u001b[0;34m[\u001b[0m\u001b[0;34m'interest_rate'\u001b[0m\u001b[0;34m]\u001b[0m \u001b[0;34m*\u001b[0m \u001b[0;36m0.5\u001b[0m \u001b[0;34m*\u001b[0m \u001b[0;34m(\u001b[0m\u001b[0mgreeks\u001b[0m\u001b[0;34m[\u001b[0m\u001b[0;34m'mark_iv'\u001b[0m\u001b[0;34m]\u001b[0m \u001b[0;34m**\u001b[0m \u001b[0;36m2\u001b[0m\u001b[0;34m)\u001b[0m\u001b[0;34m)\u001b[0m                    \u001b[0;34m*\u001b[0m \u001b[0mactive_trades\u001b[0m\u001b[0;34m[\u001b[0m\u001b[0;34m'dte'\u001b[0m\u001b[0;34m]\u001b[0m\u001b[0;34m)\u001b[0m \u001b[0;34m/\u001b[0m \u001b[0msigmaT\u001b[0m\u001b[0;34m\u001b[0m\u001b[0;34m\u001b[0m\u001b[0m\n\u001b[0m\u001b[1;32m     10\u001b[0m     \u001b[0md2\u001b[0m \u001b[0;34m=\u001b[0m \u001b[0md1\u001b[0m \u001b[0;34m-\u001b[0m \u001b[0msigmaT\u001b[0m\u001b[0;34m\u001b[0m\u001b[0;34m\u001b[0m\u001b[0m\n\u001b[1;32m     11\u001b[0m     \u001b[0mvannas\u001b[0m \u001b[0;34m=\u001b[0m \u001b[0;34m[\u001b[0m\u001b[0;34m]\u001b[0m\u001b[0;34m\u001b[0m\u001b[0;34m\u001b[0m\u001b[0m\n",
      "\u001b[0;32m/home/tjang/anaconda3/envs/ml/lib/python3.7/site-packages/pandas/core/series.py\u001b[0m in \u001b[0;36mwrapper\u001b[0;34m(self)\u001b[0m\n\u001b[1;32m    127\u001b[0m         \u001b[0;32mif\u001b[0m \u001b[0mlen\u001b[0m\u001b[0;34m(\u001b[0m\u001b[0mself\u001b[0m\u001b[0;34m)\u001b[0m \u001b[0;34m==\u001b[0m \u001b[0;36m1\u001b[0m\u001b[0;34m:\u001b[0m\u001b[0;34m\u001b[0m\u001b[0;34m\u001b[0m\u001b[0m\n\u001b[1;32m    128\u001b[0m             \u001b[0;32mreturn\u001b[0m \u001b[0mconverter\u001b[0m\u001b[0;34m(\u001b[0m\u001b[0mself\u001b[0m\u001b[0;34m.\u001b[0m\u001b[0miloc\u001b[0m\u001b[0;34m[\u001b[0m\u001b[0;36m0\u001b[0m\u001b[0;34m]\u001b[0m\u001b[0;34m)\u001b[0m\u001b[0;34m\u001b[0m\u001b[0;34m\u001b[0m\u001b[0m\n\u001b[0;32m--> 129\u001b[0;31m         \u001b[0;32mraise\u001b[0m \u001b[0mTypeError\u001b[0m\u001b[0;34m(\u001b[0m\u001b[0;34mf\"cannot convert the series to {converter}\"\u001b[0m\u001b[0;34m)\u001b[0m\u001b[0;34m\u001b[0m\u001b[0;34m\u001b[0m\u001b[0m\n\u001b[0m\u001b[1;32m    130\u001b[0m \u001b[0;34m\u001b[0m\u001b[0m\n\u001b[1;32m    131\u001b[0m     \u001b[0mwrapper\u001b[0m\u001b[0;34m.\u001b[0m\u001b[0m__name__\u001b[0m \u001b[0;34m=\u001b[0m \u001b[0;34mf\"__{converter.__name__}__\"\u001b[0m\u001b[0;34m\u001b[0m\u001b[0;34m\u001b[0m\u001b[0m\n",
      "\u001b[0;31mTypeError\u001b[0m: cannot convert the series to <class 'float'>"
     ]
    }
   ],
   "source": [
    "vanna = get_vanna(no_stale, greeks)"
   ]
  },
  {
   "cell_type": "code",
   "execution_count": null,
   "id": "miniature-optimization",
   "metadata": {},
   "outputs": [],
   "source": [
    "no_stale"
   ]
  },
  {
   "cell_type": "code",
   "execution_count": null,
   "id": "level-florist",
   "metadata": {},
   "outputs": [],
   "source": [
    "def get_vex(active_trades, greeks):\n",
    "    vanna = get_vanna(active_trades, greeks)\n",
    "    return vanna * no_stale['net_amount']"
   ]
  },
  {
   "cell_type": "code",
   "execution_count": null,
   "id": "finite-journey",
   "metadata": {},
   "outputs": [],
   "source": [
    "vex = get_vex(no_stale, greeks)"
   ]
  },
  {
   "cell_type": "code",
   "execution_count": null,
   "id": "frozen-connectivity",
   "metadata": {},
   "outputs": [],
   "source": [
    "vex"
   ]
  },
  {
   "cell_type": "code",
   "execution_count": null,
   "id": "infrared-paint",
   "metadata": {},
   "outputs": [],
   "source": [
    "df"
   ]
  },
  {
   "cell_type": "code",
   "execution_count": null,
   "id": "smooth-entrepreneur",
   "metadata": {},
   "outputs": [],
   "source": [
    "new_trade"
   ]
  },
  {
   "cell_type": "code",
   "execution_count": null,
   "id": "hybrid-rolling",
   "metadata": {},
   "outputs": [],
   "source": [
    "def post_to_db(new_trade):\n",
    "    new_trade['gex'] = get_gex(no_stale, greeks)\n",
    "    new_trade['vex'] = get_vex(no_stale, greeks)\n",
    "    #in the script, new_trade will be a df instead oa series so this line should\n",
    "    #be removed\n",
    "    df_to_post = new_trade.to_frame()\n",
    "    df_to_post = df_to_post.transpose()\n",
    "    sqlUrl = sqlalchemy.engine.url.URL(\n",
    "        drivername=\"mysql+pymysql\",\n",
    "        username='admin',\n",
    "        password='Deribit123',\n",
    "        host='deribit-db-instance.csduabs5w5go.us-east-1.rds.amazonaws.com',\n",
    "        port=3306,\n",
    "        database='deribit',\n",
    "        #make this the server's path and also make it secure?\n",
    "        query={\"ssl_key\": \"/home/tjang/Downloads/deribit-key-pair.pem\"},\n",
    "    )\n",
    "    engine = sqlalchemy.create_engine(sqlUrl)\n",
    "    df_to_post.to_sql('option_table', engine, if_exists='append', index=False)"
   ]
  },
  {
   "cell_type": "code",
   "execution_count": null,
   "id": "insured-astrology",
   "metadata": {},
   "outputs": [],
   "source": [
    "post_to_db(new_trade)"
   ]
  }
 ],
 "metadata": {
  "kernelspec": {
   "display_name": "Python 3",
   "language": "python",
   "name": "python3"
  },
  "language_info": {
   "codemirror_mode": {
    "name": "ipython",
    "version": 3
   },
   "file_extension": ".py",
   "mimetype": "text/x-python",
   "name": "python",
   "nbconvert_exporter": "python",
   "pygments_lexer": "ipython3",
   "version": "3.7.9"
  }
 },
 "nbformat": 4,
 "nbformat_minor": 5
}
