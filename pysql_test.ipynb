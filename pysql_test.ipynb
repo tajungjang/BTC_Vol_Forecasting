{
 "cells": [
  {
   "cell_type": "code",
   "execution_count": 1,
   "metadata": {},
   "outputs": [],
   "source": [
    "import pymysql\n",
    "import pandas as pd\n",
    "import numpy as np\n",
    "import urllib.request, json"
   ]
  },
  {
   "cell_type": "code",
   "execution_count": 2,
   "metadata": {},
   "outputs": [],
   "source": [
    "#grab the entire table from sql\n",
    "#contains recent traded option log and updated gex/vex/ddoi values\n",
    "#make this take an argument in case we have more tables in the future\n",
    "def get_sql_df():\n",
    "    Host = 'deribit-db-instance.csduabs5w5go.us-east-1.rds.amazonaws.com'\n",
    "    User = 'admin'\n",
    "    Password = 'Deribit123'\n",
    "    Database = 'deribit'\n",
    "    con = pymysql.connect(user=User, password=Password,host=Host, database=Database, port=3306, ssl_key='../../Downloads/deribit-key-pair.pem')\n",
    "    try:\n",
    "        with con.cursor() as cur:\n",
    "            query = 'SELECT * FROM deribit.option_table'\n",
    "            cur.execute(query)\n",
    "            df = pd.read_sql(query, con)\n",
    "            return df\n",
    "    finally:\n",
    "        con.close()"
   ]
  },
  {
   "cell_type": "code",
   "execution_count": 3,
   "metadata": {},
   "outputs": [
    {
     "data": {
      "text/html": [
       "<div>\n",
       "<style scoped>\n",
       "    .dataframe tbody tr th:only-of-type {\n",
       "        vertical-align: middle;\n",
       "    }\n",
       "\n",
       "    .dataframe tbody tr th {\n",
       "        vertical-align: top;\n",
       "    }\n",
       "\n",
       "    .dataframe thead th {\n",
       "        text-align: right;\n",
       "    }\n",
       "</style>\n",
       "<table border=\"1\" class=\"dataframe\">\n",
       "  <thead>\n",
       "    <tr style=\"text-align: right;\">\n",
       "      <th></th>\n",
       "      <th>MyUnknownColumn</th>\n",
       "      <th>trade_seq</th>\n",
       "      <th>trade_id</th>\n",
       "      <th>timestamp</th>\n",
       "      <th>tick_direction</th>\n",
       "      <th>price</th>\n",
       "      <th>mark_price</th>\n",
       "      <th>iv</th>\n",
       "      <th>instrument_name</th>\n",
       "      <th>index_price</th>\n",
       "      <th>direction</th>\n",
       "      <th>amount</th>\n",
       "      <th>gex</th>\n",
       "      <th>vex</th>\n",
       "      <th>ddoi</th>\n",
       "    </tr>\n",
       "  </thead>\n",
       "  <tbody>\n",
       "    <tr>\n",
       "      <th>0</th>\n",
       "      <td>0</td>\n",
       "      <td>3</td>\n",
       "      <td>64622797</td>\n",
       "      <td>1613793025351</td>\n",
       "      <td>0</td>\n",
       "      <td>0.1625</td>\n",
       "      <td>0.245046</td>\n",
       "      <td>107.69</td>\n",
       "      <td>BTC-26MAR21-54000-C</td>\n",
       "      <td>55753.42</td>\n",
       "      <td>buy</td>\n",
       "      <td>10</td>\n",
       "      <td>10</td>\n",
       "      <td>10</td>\n",
       "      <td>0</td>\n",
       "    </tr>\n",
       "    <tr>\n",
       "      <th>1</th>\n",
       "      <td>0</td>\n",
       "      <td>2</td>\n",
       "      <td>64649826</td>\n",
       "      <td>1613851501155</td>\n",
       "      <td>0</td>\n",
       "      <td>0.1340</td>\n",
       "      <td>0.073299</td>\n",
       "      <td>165.31</td>\n",
       "      <td>BTC-5MAR21-57000-P</td>\n",
       "      <td>56738.42</td>\n",
       "      <td>buy</td>\n",
       "      <td>3</td>\n",
       "      <td>20</td>\n",
       "      <td>15</td>\n",
       "      <td>0</td>\n",
       "    </tr>\n",
       "    <tr>\n",
       "      <th>2</th>\n",
       "      <td>0</td>\n",
       "      <td>50</td>\n",
       "      <td>64649954</td>\n",
       "      <td>1613851546122</td>\n",
       "      <td>0</td>\n",
       "      <td>0.1370</td>\n",
       "      <td>0.063862</td>\n",
       "      <td>198.70</td>\n",
       "      <td>BTC-5MAR21-57000-C</td>\n",
       "      <td>56731.02</td>\n",
       "      <td>buy</td>\n",
       "      <td>3</td>\n",
       "      <td>30</td>\n",
       "      <td>16</td>\n",
       "      <td>0</td>\n",
       "    </tr>\n",
       "    <tr>\n",
       "      <th>3</th>\n",
       "      <td>0</td>\n",
       "      <td>57</td>\n",
       "      <td>64650074</td>\n",
       "      <td>1613851603336</td>\n",
       "      <td>0</td>\n",
       "      <td>0.0695</td>\n",
       "      <td>0.061493</td>\n",
       "      <td>134.11</td>\n",
       "      <td>BTC-5MAR21-60000-C</td>\n",
       "      <td>56796.98</td>\n",
       "      <td>buy</td>\n",
       "      <td>3</td>\n",
       "      <td>40</td>\n",
       "      <td>20</td>\n",
       "      <td>0</td>\n",
       "    </tr>\n",
       "    <tr>\n",
       "      <th>4</th>\n",
       "      <td>0</td>\n",
       "      <td>336</td>\n",
       "      <td>64657047</td>\n",
       "      <td>1613855054463</td>\n",
       "      <td>2</td>\n",
       "      <td>0.0560</td>\n",
       "      <td>0.151207</td>\n",
       "      <td>39.36</td>\n",
       "      <td>BTC-26FEB21-54000-C</td>\n",
       "      <td>56715.78</td>\n",
       "      <td>sell</td>\n",
       "      <td>2</td>\n",
       "      <td>30</td>\n",
       "      <td>10</td>\n",
       "      <td>0</td>\n",
       "    </tr>\n",
       "  </tbody>\n",
       "</table>\n",
       "</div>"
      ],
      "text/plain": [
       "   MyUnknownColumn  trade_seq  trade_id      timestamp  tick_direction  \\\n",
       "0                0          3  64622797  1613793025351               0   \n",
       "1                0          2  64649826  1613851501155               0   \n",
       "2                0         50  64649954  1613851546122               0   \n",
       "3                0         57  64650074  1613851603336               0   \n",
       "4                0        336  64657047  1613855054463               2   \n",
       "\n",
       "    price  mark_price      iv      instrument_name  index_price direction  \\\n",
       "0  0.1625    0.245046  107.69  BTC-26MAR21-54000-C     55753.42       buy   \n",
       "1  0.1340    0.073299  165.31   BTC-5MAR21-57000-P     56738.42       buy   \n",
       "2  0.1370    0.063862  198.70   BTC-5MAR21-57000-C     56731.02       buy   \n",
       "3  0.0695    0.061493  134.11   BTC-5MAR21-60000-C     56796.98       buy   \n",
       "4  0.0560    0.151207   39.36  BTC-26FEB21-54000-C     56715.78      sell   \n",
       "\n",
       "   amount  gex  vex  ddoi  \n",
       "0      10   10   10     0  \n",
       "1       3   20   15     0  \n",
       "2       3   30   16     0  \n",
       "3       3   40   20     0  \n",
       "4       2   30   10     0  "
      ]
     },
     "execution_count": 3,
     "metadata": {},
     "output_type": "execute_result"
    }
   ],
   "source": [
    "df = get_sql_df()\n",
    "df.head()"
   ]
  },
  {
   "cell_type": "code",
   "execution_count": 4,
   "metadata": {},
   "outputs": [
    {
     "data": {
      "text/plain": [
       "(6, 15)"
      ]
     },
     "execution_count": 4,
     "metadata": {},
     "output_type": "execute_result"
    }
   ],
   "source": [
    "df.shape"
   ]
  },
  {
   "cell_type": "code",
   "execution_count": 5,
   "metadata": {},
   "outputs": [
    {
     "data": {
      "text/plain": [
       "MyUnknownColumn                      0\n",
       "trade_seq                            2\n",
       "trade_id                      64657489\n",
       "timestamp                1613857287961\n",
       "tick_direction                       2\n",
       "price                             0.01\n",
       "mark_price                  0.00300078\n",
       "iv                              114.51\n",
       "instrument_name    BTC-21FEB21-56000-P\n",
       "index_price                    56704.4\n",
       "direction                          buy\n",
       "amount                               1\n",
       "gex                                 10\n",
       "vex                                 20\n",
       "ddoi                                 0\n",
       "Name: 5, dtype: object"
      ]
     },
     "execution_count": 5,
     "metadata": {},
     "output_type": "execute_result"
    }
   ],
   "source": [
    "new_trade = df.iloc[-1]\n",
    "new_trade\n",
    "#call get_sql_df to get dataframe of all options\n",
    "#call get_instrument on each instrument_name to see if its active or not\n",
    "#create new dataframe based on that\n",
    "#add new_trade to new dataframe\n",
    "#call get_order_book on the new dataframe (since it has only active options)\n",
    "#calculate new gamma/vex/ddoi\n",
    "#MAYBE: remove any old sql stuff and store them?\n",
    "#post new trade info + gamma/vex/ddoi"
   ]
  },
  {
   "cell_type": "code",
   "execution_count": 38,
   "metadata": {},
   "outputs": [],
   "source": [
    "#/public/get_instrument\n",
    "\n",
    "url = 'https://test.deribit.com/api/v2/public/get_instrument?instrument_name='\n",
    "url += new_trade[8]"
   ]
  },
  {
   "cell_type": "code",
   "execution_count": 39,
   "metadata": {},
   "outputs": [
    {
     "name": "stdout",
     "output_type": "stream",
     "text": [
      "https://test.deribit.com/api/v2/public/get_instrument?instrument_name=BTC-21FEB21-56000-P\n"
     ]
    }
   ],
   "source": [
    "print(url)"
   ]
  },
  {
   "cell_type": "code",
   "execution_count": 18,
   "metadata": {},
   "outputs": [
    {
     "name": "stdout",
     "output_type": "stream",
     "text": [
      "{'tick_size': 0.0005, 'taker_commission': 0.0003, 'strike': 56000.0, 'settlement_period': 'day', 'quote_currency': 'USD', 'option_type': 'put', 'min_trade_amount': 0.1, 'maker_commission': 0.0003, 'kind': 'option', 'is_active': False, 'instrument_name': 'BTC-21FEB21-56000-P', 'expiration_timestamp': 1613894400000, 'creation_timestamp': 1613721603000, 'contract_size': 1.0, 'block_trade_commission': 0.00015, 'base_currency': 'BTC'}\n",
      "not active\n"
     ]
    }
   ],
   "source": [
    "with urllib.request.urlopen(url) as url:\n",
    "    data = json.loads(url.read().decode())\n",
    "result = data['result']\n",
    "print(result)\n",
    "if(result['is_active']):\n",
    "    print(\"active\")\n",
    "else:\n",
    "    print(\"not active\")\n",
    "    iname = result['instrument_name']"
   ]
  },
  {
   "cell_type": "code",
   "execution_count": 25,
   "metadata": {},
   "outputs": [],
   "source": [
    "testing_df = df.drop(df[df['instrument_name'] == iname].index)"
   ]
  },
  {
   "cell_type": "code",
   "execution_count": 30,
   "metadata": {},
   "outputs": [
    {
     "data": {
      "text/plain": [
       "(5, 15)"
      ]
     },
     "execution_count": 30,
     "metadata": {},
     "output_type": "execute_result"
    }
   ],
   "source": [
    "testing_df.shape"
   ]
  },
  {
   "cell_type": "code",
   "execution_count": 10,
   "metadata": {},
   "outputs": [],
   "source": [
    "testingdf = df.copy()"
   ]
  },
  {
   "cell_type": "code",
   "execution_count": 11,
   "metadata": {},
   "outputs": [],
   "source": [
    "#working function here\n",
    "def get_instrument():\n",
    "    for x in df['instrument_name']:\n",
    "        url = 'https://test.deribit.com/api/v2/public/get_instrument?instrument_name='\n",
    "        url += x\n",
    "        with urllib.request.urlopen(url) as url:\n",
    "            data = json.loads(url.read().decode())\n",
    "        result = data['result']\n",
    "        if(result['is_active']):\n",
    "            pass\n",
    "        else:\n",
    "            iname = result['instrument_name']\n",
    "            testingdf.drop(testingdf[testingdf['instrument_name'] == iname].index, inplace = True)"
   ]
  },
  {
   "cell_type": "code",
   "execution_count": 12,
   "metadata": {},
   "outputs": [],
   "source": [
    "get_instrument()"
   ]
  },
  {
   "cell_type": "code",
   "execution_count": 22,
   "metadata": {},
   "outputs": [],
   "source": [
    "testrow = testingdf.iloc[-1]"
   ]
  },
  {
   "cell_type": "code",
   "execution_count": 23,
   "metadata": {},
   "outputs": [
    {
     "data": {
      "text/plain": [
       "MyUnknownColumn                      0\n",
       "trade_seq                          336\n",
       "trade_id                      64657047\n",
       "timestamp                1613855054463\n",
       "tick_direction                       2\n",
       "price                            0.056\n",
       "mark_price                    0.151207\n",
       "iv                               39.36\n",
       "instrument_name    BTC-26FEB21-54000-C\n",
       "index_price                    56715.8\n",
       "direction                         sell\n",
       "amount                               2\n",
       "gex                                 30\n",
       "vex                                 10\n",
       "ddoi                                 0\n",
       "Name: 4, dtype: object"
      ]
     },
     "execution_count": 23,
     "metadata": {},
     "output_type": "execute_result"
    }
   ],
   "source": [
    "testrow"
   ]
  },
  {
   "cell_type": "code",
   "execution_count": 16,
   "metadata": {},
   "outputs": [],
   "source": [
    "gex = testingdf.iloc[-1][12]"
   ]
  },
  {
   "cell_type": "code",
   "execution_count": 17,
   "metadata": {},
   "outputs": [
    {
     "data": {
      "text/plain": [
       "30"
      ]
     },
     "execution_count": 17,
     "metadata": {},
     "output_type": "execute_result"
    }
   ],
   "source": [
    "gex"
   ]
  },
  {
   "cell_type": "code",
   "execution_count": 18,
   "metadata": {},
   "outputs": [],
   "source": [
    "vex = testingdf.iloc[-1][13]"
   ]
  },
  {
   "cell_type": "code",
   "execution_count": 19,
   "metadata": {},
   "outputs": [
    {
     "data": {
      "text/plain": [
       "10"
      ]
     },
     "execution_count": 19,
     "metadata": {},
     "output_type": "execute_result"
    }
   ],
   "source": [
    "vex"
   ]
  },
  {
   "cell_type": "code",
   "execution_count": null,
   "metadata": {},
   "outputs": [],
   "source": []
  }
 ],
 "metadata": {
  "kernelspec": {
   "display_name": "Python 3",
   "language": "python",
   "name": "python3"
  },
  "language_info": {
   "codemirror_mode": {
    "name": "ipython",
    "version": 3
   },
   "file_extension": ".py",
   "mimetype": "text/x-python",
   "name": "python",
   "nbconvert_exporter": "python",
   "pygments_lexer": "ipython3",
   "version": "3.9.1"
  }
 },
 "nbformat": 4,
 "nbformat_minor": 5
}
